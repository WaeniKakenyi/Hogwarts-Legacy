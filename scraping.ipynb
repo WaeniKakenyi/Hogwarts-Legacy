{
 "cells": [
  {
   "cell_type": "code",
   "execution_count": 1,
   "metadata": {},
   "outputs": [],
   "source": [
    "# Import relevant libraries\n",
    "from bs4 import BeautifulSoup\n",
    "import pandas as pd\n",
    "import requests\n",
    "import re\n",
    "import os"
   ]
  },
  {
   "cell_type": "code",
   "execution_count": 2,
   "metadata": {},
   "outputs": [],
   "source": [
    "root_url = 'https://harrypotter.fandom.com/wiki/Hogwarts_Legacy'\n",
    "page = requests.get(root_url)"
   ]
  },
  {
   "cell_type": "code",
   "execution_count": 3,
   "metadata": {},
   "outputs": [],
   "source": [
    "# Ensure that if there are any issues the print message is displayed\n",
    "if page.status_code != 200:\n",
    "    print(f'There is an error with {root_url}')"
   ]
  },
  {
   "cell_type": "code",
   "execution_count": 4,
   "metadata": {},
   "outputs": [],
   "source": [
    "# Get the html of the page and format the output \n",
    "soup = BeautifulSoup(page.content, 'html.parser')"
   ]
  },
  {
   "cell_type": "code",
   "execution_count": 5,
   "metadata": {},
   "outputs": [],
   "source": [
    "relevant_h2_tags = {\n",
    "    'Characters': ['Hogwarts students', 'Unknown House', 'Hufflepuff', 'Gryffindor', 'Ravenclaw', 'Slytherin', 'Hogwarts staff', 'Historical wizards', 'Keepers', 'Others', 'Hogsmeade villagers', 'Rookwood Gang'],\n",
    "    'Locations': ['Locations'],\n",
    "    'Spells': ['Essential', 'Selectable'],\n",
    "    'Potions': ['Potions'],\n",
    "    'Creatures': ['Creatures']\n",
    "}\n",
    "result = {}\n",
    "\n",
    "# Loop through the h2 tags and their corresponding categories\n",
    "for h2, categories in relevant_h2_tags.items():\n",
    "    result[h2] = {}\n",
    "\n",
    "    # Find the relevant headings outside of the inner loop\n",
    "    headings = soup.find_all(['h2', 'h3', 'h4'])\n",
    "\n",
    "    for category in categories:\n",
    "        sub_headings = {}\n",
    "\n",
    "        # Loop through the headings found in the soup\n",
    "        for heading in headings:\n",
    "            # Check if the heading matches the current h2 and category\n",
    "            if heading.name in ['h2', 'h3'] and heading.text == category:\n",
    "                current_heading = heading\n",
    "                # If current heading has a ul tag, add li items to a list\n",
    "                if current_heading.find_next('ul'):\n",
    "                    li_items = [li.text for li in current_heading.find_next('ul').find_all('li')]\n",
    "                    sub_headings[current_heading.text] = li_items\n",
    "\n",
    "                    # Iterate over sub-headings until next h3 or end of document is found\n",
    "                    next_heading = current_heading.find_next(['h3', 'h4'])\n",
    "                    while next_heading is not None and next_heading.name == 'h4':\n",
    "                        sub_sub_headings = {}\n",
    "\n",
    "                        # If sub-heading is an li tag, add it as a dictionary with key and value being the same\n",
    "                        if next_heading.name == 'li':\n",
    "                            sub_sub_headings[next_heading.text] = next_heading.text\n",
    "                        # If sub-heading has a ul tag, add li items to a dictionary with the key being the sub-heading text\n",
    "                        if next_heading.find_next('ul'):\n",
    "                            li_items = [li.text for li in next_heading.find_next('ul').find_all('li')]\n",
    "                            sub_sub_headings[next_heading.text] = li_items\n",
    "\n",
    "                            # Iterate over sub-sub-headings until next h4, h3 or end of document is found\n",
    "                            next_sub_heading = next_heading.find_next(['h3', 'h4'])\n",
    "                            while next_sub_heading is not None and next_sub_heading.name == 'h3':\n",
    "                                sub_sub_sub_headings = {}\n",
    "\n",
    "                                # If sub-sub-heading is an li tag, add it as a dictionary with key and value being the same\n",
    "                                if next_sub_heading.name == 'li':\n",
    "                                    sub_sub_sub_headings[next_sub_heading.text] = next_sub_heading.text\n",
    "\n",
    "                                sub_sub_headings.update(sub_sub_sub_headings)\n",
    "                                next_sub_heading = next_sub_heading.find_next(['h3','h4'])\n",
    "\n",
    "                        sub_headings.update(sub_sub_headings)\n",
    "                        next_heading = next_heading.find_next(['h3','h4'])\n",
    "\n",
    "                # Add sub_headings to the result dictionary for the current category\n",
    "                result[h2][category] = sub_headings"
   ]
  },
  {
   "cell_type": "code",
   "execution_count": 6,
   "metadata": {},
   "outputs": [
    {
     "data": {
      "text/plain": [
       "dict_keys(['Characters', 'Locations', 'Spells', 'Potions', 'Creatures'])"
      ]
     },
     "execution_count": 6,
     "metadata": {},
     "output_type": "execute_result"
    }
   ],
   "source": [
    "result.keys()"
   ]
  },
  {
   "attachments": {},
   "cell_type": "markdown",
   "metadata": {},
   "source": [
    "Create a dataframe containing all the data from result"
   ]
  },
  {
   "cell_type": "code",
   "execution_count": 7,
   "metadata": {},
   "outputs": [
    {
     "data": {
      "text/html": [
       "<div>\n",
       "<style scoped>\n",
       "    .dataframe tbody tr th:only-of-type {\n",
       "        vertical-align: middle;\n",
       "    }\n",
       "\n",
       "    .dataframe tbody tr th {\n",
       "        vertical-align: top;\n",
       "    }\n",
       "\n",
       "    .dataframe thead th {\n",
       "        text-align: right;\n",
       "    }\n",
       "</style>\n",
       "<table border=\"1\" class=\"dataframe\">\n",
       "  <thead>\n",
       "    <tr style=\"text-align: right;\">\n",
       "      <th></th>\n",
       "      <th>names</th>\n",
       "      <th>category</th>\n",
       "    </tr>\n",
       "  </thead>\n",
       "  <tbody>\n",
       "    <tr>\n",
       "      <th>0</th>\n",
       "      <td>Unidentified student</td>\n",
       "      <td>Unknown House</td>\n",
       "    </tr>\n",
       "    <tr>\n",
       "      <th>1</th>\n",
       "      <td>Isaac Cooper</td>\n",
       "      <td>Unknown House</td>\n",
       "    </tr>\n",
       "    <tr>\n",
       "      <th>2</th>\n",
       "      <td>Arthur Siggs[20]</td>\n",
       "      <td>Unknown House</td>\n",
       "    </tr>\n",
       "    <tr>\n",
       "      <th>3</th>\n",
       "      <td>Adelaide Oakes</td>\n",
       "      <td>Hufflepuff</td>\n",
       "    </tr>\n",
       "    <tr>\n",
       "      <th>4</th>\n",
       "      <td>Arthur Plummly</td>\n",
       "      <td>Hufflepuff</td>\n",
       "    </tr>\n",
       "  </tbody>\n",
       "</table>\n",
       "</div>"
      ],
      "text/plain": [
       "                  names       category\n",
       "0  Unidentified student  Unknown House\n",
       "1          Isaac Cooper  Unknown House\n",
       "2      Arthur Siggs[20]  Unknown House\n",
       "3        Adelaide Oakes     Hufflepuff\n",
       "4        Arthur Plummly     Hufflepuff"
      ]
     },
     "execution_count": 7,
     "metadata": {},
     "output_type": "execute_result"
    }
   ],
   "source": [
    "# Flatten the dictionary\n",
    "flattened_dict = {}\n",
    "for keys in relevant_h2_tags.keys():\n",
    "    for categories, values in result.items():\n",
    "        if categories == keys:\n",
    "            for category,sub_dict in result[categories].items():\n",
    "                for sub_category, names in sub_dict.items():\n",
    "\n",
    "                    for name in names:\n",
    "                        flattened_dict[name] = sub_category\n",
    "\n",
    "\n",
    "# Create a DataFrame from the flattened dictionary\n",
    "df = pd.DataFrame.from_dict(flattened_dict, orient='index', columns=['category'])\n",
    "df.index.name = 'names'\n",
    "df.reset_index(inplace=True)\n",
    "\n",
    "# Display the DataFrame\n",
    "df.head()"
   ]
  },
  {
   "attachments": {},
   "cell_type": "markdown",
   "metadata": {},
   "source": [
    "Save to csv format"
   ]
  },
  {
   "cell_type": "code",
   "execution_count": 8,
   "metadata": {},
   "outputs": [],
   "source": [
    "data_dir = 'data'\n",
    "\n",
    "if not os.path.exists(data_dir):\n",
    "    os.makedirs(data_dir)\n",
    "df.to_csv('data/Hogwarts_legacy.csv', index_label=False)"
   ]
  }
 ],
 "metadata": {
  "kernelspec": {
   "display_name": "webscraping-Jx81p3Hm",
   "language": "python",
   "name": "python3"
  },
  "language_info": {
   "codemirror_mode": {
    "name": "ipython",
    "version": 3
   },
   "file_extension": ".py",
   "mimetype": "text/x-python",
   "name": "python",
   "nbconvert_exporter": "python",
   "pygments_lexer": "ipython3",
   "version": "3.11.2"
  },
  "orig_nbformat": 4
 },
 "nbformat": 4,
 "nbformat_minor": 2
}
