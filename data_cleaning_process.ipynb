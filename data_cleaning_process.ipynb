{
 "cells": [
  {
   "attachments": {},
   "cell_type": "markdown",
   "metadata": {},
   "source": [
    "# Cleaning the data\n",
    "The following will be done to clean the data we have scraped\n",
    "- Check for any missing data \n",
    "- Deal with the missing data \n",
    "- Check for duplicate rows \n",
    "- Remove all the numbers in the columns \n",
    "- Split hogwarts staff into subject \n",
    "- Values from sub-categories in Hogwarts staff to be replaced by Professors \n",
    "- Edit rows that contain /n in them\n"
   ]
  },
  {
   "cell_type": "code",
   "execution_count": 1,
   "metadata": {},
   "outputs": [],
   "source": [
    "from IPython.display import display\n",
    "import pandas as pd\n",
    "import sqlite3\n",
    "import os\n",
    "import re"
   ]
  },
  {
   "cell_type": "code",
   "execution_count": 2,
   "metadata": {},
   "outputs": [
    {
     "data": {
      "text/html": [
       "<div>\n",
       "<style scoped>\n",
       "    .dataframe tbody tr th:only-of-type {\n",
       "        vertical-align: middle;\n",
       "    }\n",
       "\n",
       "    .dataframe tbody tr th {\n",
       "        vertical-align: top;\n",
       "    }\n",
       "\n",
       "    .dataframe thead th {\n",
       "        text-align: right;\n",
       "    }\n",
       "</style>\n",
       "<table border=\"1\" class=\"dataframe\">\n",
       "  <thead>\n",
       "    <tr style=\"text-align: right;\">\n",
       "      <th></th>\n",
       "      <th>Names</th>\n",
       "      <th>Categories</th>\n",
       "      <th>Sub_Categories</th>\n",
       "    </tr>\n",
       "  </thead>\n",
       "  <tbody>\n",
       "    <tr>\n",
       "      <th>0</th>\n",
       "      <td>Unidentified student</td>\n",
       "      <td>Hogwarts students</td>\n",
       "      <td>Unknown House</td>\n",
       "    </tr>\n",
       "    <tr>\n",
       "      <th>1</th>\n",
       "      <td>Isaac Cooper</td>\n",
       "      <td>Hogwarts students</td>\n",
       "      <td>Unknown House</td>\n",
       "    </tr>\n",
       "    <tr>\n",
       "      <th>2</th>\n",
       "      <td>Arthur Siggs[20]</td>\n",
       "      <td>Hogwarts students</td>\n",
       "      <td>Unknown House</td>\n",
       "    </tr>\n",
       "    <tr>\n",
       "      <th>3</th>\n",
       "      <td>Adelaide Oakes</td>\n",
       "      <td>Hogwarts students</td>\n",
       "      <td>Hufflepuff</td>\n",
       "    </tr>\n",
       "    <tr>\n",
       "      <th>4</th>\n",
       "      <td>Arthur Plummly</td>\n",
       "      <td>Hogwarts students</td>\n",
       "      <td>Hufflepuff</td>\n",
       "    </tr>\n",
       "  </tbody>\n",
       "</table>\n",
       "</div>"
      ],
      "text/plain": [
       "                  Names         Categories Sub_Categories\n",
       "0  Unidentified student  Hogwarts students  Unknown House\n",
       "1          Isaac Cooper  Hogwarts students  Unknown House\n",
       "2      Arthur Siggs[20]  Hogwarts students  Unknown House\n",
       "3        Adelaide Oakes  Hogwarts students     Hufflepuff\n",
       "4        Arthur Plummly  Hogwarts students     Hufflepuff"
      ]
     },
     "execution_count": 2,
     "metadata": {},
     "output_type": "execute_result"
    }
   ],
   "source": [
    "# Read data from the csvs\n",
    "data_dir = 'data'\n",
    "data = pd.read_csv('data/Hogwarts_legacy.csv')\n",
    "data.head()"
   ]
  },
  {
   "cell_type": "code",
   "execution_count": 3,
   "metadata": {},
   "outputs": [],
   "source": [
    "class DataClean:\n",
    "    def __init__(self, df):\n",
    "        self.df = df\n",
    "        self.info_str = ''\n",
    "     # Cleaning the Hogwarts staff \n",
    "    def staff(self):\n",
    "        staff_df = self.df['Names'].str.split(',',expand=True).loc[self.df['Categories']=='Hogwarts staff']\n",
    "        self.df['Names'].loc[self.df['Categories']=='Hogwarts staff'] = staff_df[0]\n",
    "        self.df['Sub_Categories'].loc[self.df['Categories']=='Hogwarts staff'] = staff_df[1]\n",
    "        self.df['Subject'] = staff_df[2]\n",
    "    \n",
    "    def info(self):\n",
    "        self.info_str = str(self.df.info())\n",
    "    \n",
    "    # Check for duplicated data\n",
    "    def duplicated_data(self):\n",
    "        self.df.duplicated().sum()\n",
    "\n",
    "    # Check for missing data\n",
    "    def missing_data(self):\n",
    "        missing = []\n",
    "        # for col_name, df_data in self.df:\n",
    "        missing_percent = round(self.df.isna().sum() / len(self.df) * 100, 2)\n",
    "        missing_percents = pd.DataFrame({'column_name': self.df.columns, 'percent_missing': missing_percent})\n",
    "        missing_percents.drop(missing_percents[missing_percents[\"percent_missing\"] == 0].index, inplace=True)\n",
    "        missing.append(missing_percents)\n",
    "        display(pd.concat(missing))\n",
    "\n",
    "    # Replace missing data with not applicable\n",
    "    def replace_missing(self):\n",
    "        self.df.fillna('Not Applicable', inplace=True)\n",
    "    \n",
    "    # Remove numbers from the columns and words that come after \\n\n",
    "    def rmv_extras(self):\n",
    "        for col_name in self.df.columns:\n",
    "            self.df[col_name] = self.df[col_name].map(lambda x : re.sub(pattern='[\\d\\[\\]]',repl=' ',string=x).split('\\n',1)[0])    "
   ]
  },
  {
   "cell_type": "code",
   "execution_count": 4,
   "metadata": {},
   "outputs": [],
   "source": [
    "# Initialize the DataClean class\n",
    "data_clean = DataClean(data)"
   ]
  },
  {
   "cell_type": "code",
   "execution_count": 5,
   "metadata": {},
   "outputs": [
    {
     "name": "stdout",
     "output_type": "stream",
     "text": [
      "<class 'pandas.core.frame.DataFrame'>\n",
      "RangeIndex: 239 entries, 0 to 238\n",
      "Data columns (total 3 columns):\n",
      " #   Column          Non-Null Count  Dtype \n",
      "---  ------          --------------  ----- \n",
      " 0   Names           239 non-null    object\n",
      " 1   Categories      239 non-null    object\n",
      " 2   Sub_Categories  239 non-null    object\n",
      "dtypes: object(3)\n",
      "memory usage: 5.7+ KB\n"
     ]
    }
   ],
   "source": [
    "# Check for the general data information\n",
    "data_clean.info()"
   ]
  },
  {
   "cell_type": "code",
   "execution_count": 6,
   "metadata": {},
   "outputs": [],
   "source": [
    "# Restructure the dataframe by adding new values to the Hogwarts staff\n",
    "data_clean.staff()"
   ]
  },
  {
   "cell_type": "code",
   "execution_count": 7,
   "metadata": {},
   "outputs": [
    {
     "data": {
      "text/html": [
       "<div>\n",
       "<style scoped>\n",
       "    .dataframe tbody tr th:only-of-type {\n",
       "        vertical-align: middle;\n",
       "    }\n",
       "\n",
       "    .dataframe tbody tr th {\n",
       "        vertical-align: top;\n",
       "    }\n",
       "\n",
       "    .dataframe thead th {\n",
       "        text-align: right;\n",
       "    }\n",
       "</style>\n",
       "<table border=\"1\" class=\"dataframe\">\n",
       "  <thead>\n",
       "    <tr style=\"text-align: right;\">\n",
       "      <th></th>\n",
       "      <th>column_name</th>\n",
       "      <th>percent_missing</th>\n",
       "    </tr>\n",
       "  </thead>\n",
       "  <tbody>\n",
       "    <tr>\n",
       "      <th>Subject</th>\n",
       "      <td>Subject</td>\n",
       "      <td>94.98</td>\n",
       "    </tr>\n",
       "  </tbody>\n",
       "</table>\n",
       "</div>"
      ],
      "text/plain": [
       "        column_name  percent_missing\n",
       "Subject     Subject            94.98"
      ]
     },
     "metadata": {},
     "output_type": "display_data"
    }
   ],
   "source": [
    "# Check for missing data\n",
    "data_clean.missing_data()"
   ]
  },
  {
   "cell_type": "code",
   "execution_count": 8,
   "metadata": {},
   "outputs": [],
   "source": [
    "# Deal with the missing data by replacing missing data with not applicable\n",
    "data_clean.replace_missing()"
   ]
  },
  {
   "cell_type": "code",
   "execution_count": 9,
   "metadata": {},
   "outputs": [
    {
     "data": {
      "text/html": [
       "<div>\n",
       "<style scoped>\n",
       "    .dataframe tbody tr th:only-of-type {\n",
       "        vertical-align: middle;\n",
       "    }\n",
       "\n",
       "    .dataframe tbody tr th {\n",
       "        vertical-align: top;\n",
       "    }\n",
       "\n",
       "    .dataframe thead th {\n",
       "        text-align: right;\n",
       "    }\n",
       "</style>\n",
       "<table border=\"1\" class=\"dataframe\">\n",
       "  <thead>\n",
       "    <tr style=\"text-align: right;\">\n",
       "      <th></th>\n",
       "      <th>column_name</th>\n",
       "      <th>percent_missing</th>\n",
       "    </tr>\n",
       "  </thead>\n",
       "  <tbody>\n",
       "  </tbody>\n",
       "</table>\n",
       "</div>"
      ],
      "text/plain": [
       "Empty DataFrame\n",
       "Columns: [column_name, percent_missing]\n",
       "Index: []"
      ]
     },
     "metadata": {},
     "output_type": "display_data"
    }
   ],
   "source": [
    "# Confirm if the missing data has been removed\n",
    "data_clean.missing_data()"
   ]
  },
  {
   "cell_type": "code",
   "execution_count": 10,
   "metadata": {},
   "outputs": [],
   "source": [
    "# Check if there are any duplicaated data\n",
    "data_clean.duplicated_data()"
   ]
  },
  {
   "cell_type": "code",
   "execution_count": 11,
   "metadata": {},
   "outputs": [],
   "source": [
    "# Remove any unwanted values in the dataframe\n",
    "data_clean.rmv_extras()"
   ]
  },
  {
   "cell_type": "code",
   "execution_count": 12,
   "metadata": {},
   "outputs": [
    {
     "name": "stdout",
     "output_type": "stream",
     "text": [
      "<class 'pandas.core.frame.DataFrame'>\n",
      "RangeIndex: 239 entries, 0 to 238\n",
      "Data columns (total 4 columns):\n",
      " #   Column          Non-Null Count  Dtype \n",
      "---  ------          --------------  ----- \n",
      " 0   Names           239 non-null    object\n",
      " 1   Categories      239 non-null    object\n",
      " 2   Sub_Categories  239 non-null    object\n",
      " 3   Subject         239 non-null    object\n",
      "dtypes: object(4)\n",
      "memory usage: 7.6+ KB\n"
     ]
    }
   ],
   "source": [
    "# Check if the cleaning steps have been implemented\n",
    "data_clean.info()"
   ]
  },
  {
   "attachments": {},
   "cell_type": "markdown",
   "metadata": {},
   "source": [
    "Save the cleaned data to csv"
   ]
  },
  {
   "cell_type": "code",
   "execution_count": 13,
   "metadata": {},
   "outputs": [],
   "source": [
    "data_dir = 'data'\n",
    "\n",
    "if not os.path.exists(data_dir):\n",
    "    os.makedirs(data_dir)\n",
    "data.to_csv('data/Hogwarts_legacy_cleaned.csv',index=False,columns=data.columns,encoding='UTF-8')"
   ]
  }
 ],
 "metadata": {
  "kernelspec": {
   "display_name": "webscraping-Jx81p3Hm",
   "language": "python",
   "name": "python3"
  },
  "language_info": {
   "codemirror_mode": {
    "name": "ipython",
    "version": 3
   },
   "file_extension": ".py",
   "mimetype": "text/x-python",
   "name": "python",
   "nbconvert_exporter": "python",
   "pygments_lexer": "ipython3",
   "version": "3.11.2"
  },
  "orig_nbformat": 4
 },
 "nbformat": 4,
 "nbformat_minor": 2
}
